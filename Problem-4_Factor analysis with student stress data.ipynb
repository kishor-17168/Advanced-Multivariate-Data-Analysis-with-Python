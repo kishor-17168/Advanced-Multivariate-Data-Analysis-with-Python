{
 "cells": [
  {
   "cell_type": "markdown",
   "id": "ff12f59b-d5a1-4528-a890-f5b56c9f2232",
   "metadata": {},
   "source": [
    "# Problem-4.2: Factor analysis with student stress data"
   ]
  },
  {
   "cell_type": "code",
   "execution_count": 1,
   "id": "f8f8cd7a-1227-451a-a11a-d08930c2209a",
   "metadata": {},
   "outputs": [],
   "source": [
    "# Student Stress Factors Analysis + Factor Analysis\n",
    "# pip install pandas numpy matplotlib seaborn factor-analyzer\n",
    "# Step-1\n",
    "import pandas as pd\n",
    "import numpy as np\n",
    "import matplotlib.pyplot as plt\n",
    "import seaborn as sns\n",
    "from factor_analyzer import FactorAnalyzer, calculate_kmo, calculate_bartlett_sphericity\n",
    "from sklearn.preprocessing import StandardScaler\n",
    "from scipy.stats import ttest_ind"
   ]
  },
  {
   "cell_type": "code",
   "execution_count": 2,
   "id": "aa774896-3cac-42b0-8de2-82a37becfc20",
   "metadata": {},
   "outputs": [],
   "source": [
    "#  Load dataset\n",
    "df = df= pd.read_csv('H:/ACADEMIC TASKS/5th Year/1st year 1st sem/STAT 5101_Advanced Multivariate Techniques_SiD/Assignment/StressLevelDataset.csv')"
   ]
  },
  {
   "cell_type": "code",
   "execution_count": 3,
   "id": "008b8bc9-f53c-4605-99a5-89ffbb6a5fbd",
   "metadata": {},
   "outputs": [
    {
     "name": "stdout",
     "output_type": "stream",
     "text": [
      "<class 'pandas.core.frame.DataFrame'>\n",
      "RangeIndex: 1100 entries, 0 to 1099\n",
      "Data columns (total 21 columns):\n",
      " #   Column                        Non-Null Count  Dtype\n",
      "---  ------                        --------------  -----\n",
      " 0   anxiety_level                 1100 non-null   int64\n",
      " 1   self_esteem                   1100 non-null   int64\n",
      " 2   mental_health_history         1100 non-null   int64\n",
      " 3   depression                    1100 non-null   int64\n",
      " 4   headache                      1100 non-null   int64\n",
      " 5   blood_pressure                1100 non-null   int64\n",
      " 6   sleep_quality                 1100 non-null   int64\n",
      " 7   breathing_problem             1100 non-null   int64\n",
      " 8   noise_level                   1100 non-null   int64\n",
      " 9   living_conditions             1100 non-null   int64\n",
      " 10  safety                        1100 non-null   int64\n",
      " 11  basic_needs                   1100 non-null   int64\n",
      " 12  academic_performance          1100 non-null   int64\n",
      " 13  study_load                    1100 non-null   int64\n",
      " 14  teacher_student_relationship  1100 non-null   int64\n",
      " 15  future_career_concerns        1100 non-null   int64\n",
      " 16  social_support                1100 non-null   int64\n",
      " 17  peer_pressure                 1100 non-null   int64\n",
      " 18  extracurricular_activities    1100 non-null   int64\n",
      " 19  bullying                      1100 non-null   int64\n",
      " 20  stress_level                  1100 non-null   int64\n",
      "dtypes: int64(21)\n",
      "memory usage: 180.6 KB\n",
      "None\n",
      "\n",
      "First 5 rows:\n",
      "    anxiety_level  self_esteem  mental_health_history  depression  headache  \\\n",
      "0             14           20                      0          11         2   \n",
      "1             15            8                      1          15         5   \n",
      "2             12           18                      1          14         2   \n",
      "3             16           12                      1          15         4   \n",
      "4             16           28                      0           7         2   \n",
      "\n",
      "   blood_pressure  sleep_quality  breathing_problem  noise_level  \\\n",
      "0               1              2                  4            2   \n",
      "1               3              1                  4            3   \n",
      "2               1              2                  2            2   \n",
      "3               3              1                  3            4   \n",
      "4               3              5                  1            3   \n",
      "\n",
      "   living_conditions  ...  basic_needs  academic_performance  study_load  \\\n",
      "0                  3  ...            2                     3           2   \n",
      "1                  1  ...            2                     1           4   \n",
      "2                  2  ...            2                     2           3   \n",
      "3                  2  ...            2                     2           4   \n",
      "4                  2  ...            3                     4           3   \n",
      "\n",
      "   teacher_student_relationship  future_career_concerns  social_support  \\\n",
      "0                             3                       3               2   \n",
      "1                             1                       5               1   \n",
      "2                             3                       2               2   \n",
      "3                             1                       4               1   \n",
      "4                             1                       2               1   \n",
      "\n",
      "   peer_pressure  extracurricular_activities  bullying  stress_level  \n",
      "0              3                           3         2             1  \n",
      "1              4                           5         5             2  \n",
      "2              3                           2         2             1  \n",
      "3              4                           4         5             2  \n",
      "4              5                           0         5             1  \n",
      "\n",
      "[5 rows x 21 columns]\n"
     ]
    }
   ],
   "source": [
    "#Basic info\n",
    "print(df.info())\n",
    "print(\"\\nFirst 5 rows:\\n\", df.head())"
   ]
  },
  {
   "cell_type": "code",
   "execution_count": 4,
   "id": "808a4b3c-73cd-49ef-a718-5e869c2f83cc",
   "metadata": {},
   "outputs": [
    {
     "name": "stdout",
     "output_type": "stream",
     "text": [
      "\n",
      "Correlation Matrix:\n",
      "                        anxiety_level  academic_performance  sleep_quality  \\\n",
      "anxiety_level               1.000000             -0.649601      -0.710292   \n",
      "academic_performance       -0.649601              1.000000       0.671326   \n",
      "sleep_quality              -0.710292              0.671326       1.000000   \n",
      "depression                  0.694340             -0.633174      -0.693161   \n",
      "bullying                    0.709982             -0.666229      -0.699427   \n",
      "mental_health_history       0.634450             -0.586193      -0.614146   \n",
      "\n",
      "                       depression  bullying  mental_health_history  \n",
      "anxiety_level            0.694340  0.709982               0.634450  \n",
      "academic_performance    -0.633174 -0.666229              -0.586193  \n",
      "sleep_quality           -0.693161 -0.699427              -0.614146  \n",
      "depression               1.000000  0.665790               0.615882  \n",
      "bullying                 0.665790  1.000000               0.624366  \n",
      "mental_health_history    0.615882  0.624366               1.000000  \n"
     ]
    }
   ],
   "source": [
    "#Step-2\n",
    "#Comparative Analysis\n",
    "corr_vars = ['anxiety_level', 'academic_performance', 'sleep_quality', 'depression', 'bullying', 'mental_health_history']\n",
    "corr_df = df[corr_vars]\n",
    "print(\"\\nCorrelation Matrix:\\n\", corr_df.corr())"
   ]
  },
  {
   "cell_type": "code",
   "execution_count": 5,
   "id": "7684bc6b-0c83-48a8-8602-972e2f624eba",
   "metadata": {},
   "outputs": [],
   "source": [
    "#Step-3\n",
    "# Factor Analysis Preparation\n",
    "fa_cols = [c for c in df.columns if c != 'stress_level']  # exclude target\n",
    "X = df[fa_cols]"
   ]
  },
  {
   "cell_type": "code",
   "execution_count": 6,
   "id": "0a20f489-98a4-407a-a129-5afd9fb05741",
   "metadata": {},
   "outputs": [],
   "source": [
    "## # Standardize\n",
    "scaler = StandardScaler()\n",
    "X_scaled = scaler.fit_transform(X)"
   ]
  },
  {
   "cell_type": "code",
   "execution_count": 7,
   "id": "42fceefe-8328-4738-9279-7b73ee044aa3",
   "metadata": {},
   "outputs": [
    {
     "name": "stdout",
     "output_type": "stream",
     "text": [
      "\n",
      "KMO: 0.968   Bartlett p-value: 0.00000\n"
     ]
    }
   ],
   "source": [
    "## Suitability tests\n",
    "kmo_all, kmo_model = calculate_kmo(X)\n",
    "chi_square_value, bartlett_p = calculate_bartlett_sphericity(X)\n",
    "print(f\"\\nKMO: {kmo_model:.3f}   Bartlett p-value: {bartlett_p:.5f}\")"
   ]
  },
  {
   "cell_type": "markdown",
   "id": "785bd87e-a44b-4829-8116-2588b070009b",
   "metadata": {},
   "source": [
    "1. KMO (Kaiser–Meyer–Olkin Measure)\n",
    "Purpose: Checks if the variables share enough common variance for factor analysis.\n",
    "Rule of thumb: KMO ≥ 0.60 → Proceed with factor analysis.\n",
    "KMO ≥ 0.80 → Very good; KMO ≥ 0.90 → Excellent.\n",
    "\n",
    "In this  dataset is highly suitable for factor analysis because KMO= 0.968\n",
    "\n",
    "2. Bartlett’s Test of Sphericity\n",
    "Purpose: Tests whether the correlation matrix is significantly different from an identity matrix (where variables are unrelated).\n",
    "\n",
    "Null hypothesis (H₀): Variables are not correlated (identity matrix).\n",
    "\n",
    "Decision rule:\n",
    "\n",
    "p-value < 0.05 → Reject H₀ → Correlations exist → Factor analysis is justified.\n",
    "\n",
    "p-value ≥ 0.05 → Fail to reject H₀ → Data may not be suitable.\n",
    "\n",
    "Since, p value is 0.00000 here so data is suitable for factor analysis"
   ]
  },
  {
   "cell_type": "code",
   "execution_count": 9,
   "id": "94704436-bac5-47c5-9d28-3f4eee422d05",
   "metadata": {},
   "outputs": [
    {
     "data": {
      "image/png": "[encoded data removed]",
      "text/plain": [
       "<Figure size 600x400 with 1 Axes>"
      ]
     },
     "metadata": {},
     "output_type": "display_data"
    },
    {
     "name": "stdout",
     "output_type": "stream",
     "text": [
      "\n",
      "Eigenvalues:\n",
      " [11.91137666  1.19614612  0.69328345  0.59383199  0.55741186  0.52584496\n",
      "  0.47413369  0.45466259  0.40556274  0.38374015  0.3610752   0.34419362\n",
      "  0.32451427  0.31313165  0.3096958   0.27948105  0.27321819  0.26607804\n",
      "  0.22979861  0.10281937]\n"
     ]
    }
   ],
   "source": [
    "#Step-4\n",
    "#  Scree plot\n",
    "fa_test = FactorAnalyzer(rotation=None)\n",
    "fa_test.fit(X)\n",
    "ev, v = fa_test.get_eigenvalues()\n",
    "\n",
    "plt.figure(figsize=(6,4))\n",
    "plt.plot(range(1, len(ev)+1), ev, marker='o')\n",
    "plt.axhline(1, linestyle='--', color='grey')\n",
    "plt.title('Scree Plot')\n",
    "plt.xlabel('Factor Number')\n",
    "plt.ylabel('Eigenvalue')\n",
    "plt.show()\n",
    "\n",
    "print(\"\\nEigenvalues:\\n\", ev)"
   ]
  },
  {
   "cell_type": "markdown",
   "id": "1224e294-329b-48d0-a394-89fc0d606052",
   "metadata": {},
   "source": [
    "Since Scree plot elbow = 2, and First two eigenvalues > 1\n",
    "\n",
    "Then n_factors = 2 is the correct choice"
   ]
  },
  {
   "cell_type": "code",
   "execution_count": 10,
   "id": "98fbafc2-d4eb-4991-bde8-d529b07c4561",
   "metadata": {},
   "outputs": [
    {
     "name": "stdout",
     "output_type": "stream",
     "text": [
      "\n",
      "Factor Loadings:\n",
      "                               Factor1  Factor2\n",
      "anxiety_level                   0.811    0.231\n",
      "self_esteem                    -0.712   -0.437\n",
      "mental_health_history           0.718    0.203\n",
      "depression                      0.751    0.350\n",
      "headache                        0.724    0.284\n",
      "blood_pressure                  0.121    0.993\n",
      "sleep_quality                  -0.806   -0.205\n",
      "breathing_problem               0.661    0.073\n",
      "noise_level                     0.650    0.263\n",
      "living_conditions              -0.637   -0.200\n",
      "safety                         -0.748   -0.231\n",
      "basic_needs                    -0.745   -0.214\n",
      "academic_performance           -0.767   -0.192\n",
      "study_load                      0.631    0.266\n",
      "teacher_student_relationship   -0.748   -0.300\n",
      "future_career_concerns          0.779    0.333\n",
      "social_support                 -0.515   -0.687\n",
      "peer_pressure                   0.712    0.283\n",
      "extracurricular_activities      0.693    0.323\n",
      "bullying                        0.794    0.254\n",
      "\n",
      "Variance explained:\n",
      "          SS Loadings  Proportion Var  Cumulative Var\n",
      "Factor1     9.848931        0.492447        0.492447\n",
      "Factor2     2.760846        0.138042        0.630489\n",
      "\n",
      "Factor Scores sample:\n",
      "     Factor1   Factor2\n",
      "0  0.571747 -1.702729\n",
      "1  1.048447  0.844565\n",
      "2  0.638024 -1.650291\n",
      "3  0.781046  0.873725\n",
      "4 -0.529572  0.877381\n"
     ]
    }
   ],
   "source": [
    "#Step-5\n",
    "#Factor Analysis with chosen number of factors\n",
    "n_factors = 2  # based 2 domains\n",
    "fa = FactorAnalyzer(n_factors=n_factors, rotation='varimax')\n",
    "fa.fit(X)\n",
    "\n",
    "loadings = pd.DataFrame(fa.loadings_, index=fa_cols, columns=[f'Factor{i+1}' for i in range(n_factors)])\n",
    "print(\"\\nFactor Loadings:\\n\", loadings.round(3))\n",
    "\n",
    "variance = fa.get_factor_variance()\n",
    "var_df = pd.DataFrame({\n",
    "    'SS Loadings': variance[0],\n",
    "    'Proportion Var': variance[1],\n",
    "    'Cumulative Var': variance[2]\n",
    "}, index=[f'Factor{i+1}' for i in range(n_factors)])\n",
    "print(\"\\nVariance explained:\\n\", var_df)\n",
    "\n",
    "# Factor scores\n",
    "scores = pd.DataFrame(fa.transform(X), columns=[f'Factor{i+1}' for i in range(n_factors)])\n",
    "print(\"\\nFactor Scores sample:\\n\", scores.head())"
   ]
  },
  {
   "cell_type": "markdown",
   "id": "5ec8caaa-6f49-4404-9d1f-e0454c204105",
   "metadata": {},
   "source": [
    "Interpretation:\n",
    "1- Variance explained\n",
    "\n",
    "Factor 1: Explains 49.24% of the variance.\n",
    "Factor 2: Explains 13.80% of the variance.\n",
    "\n",
    "Total explained variance: 63.05% — pretty good for social science data (anything above ~60% is considered strong).\n",
    "\n",
    "This means that these two factors together explain about 63% of the patterns in your dataset.\n",
    "\n",
    "2- Factor interpretation (based on loadings)\n",
    "Factor loadings tell us how strongly each variable is linked to a factor.\n",
    "A loading above ±0.5 is usually considered meaningful.\n",
    "Positive = direct relationship,\n",
    "Negative = inverse relationship.\n",
    "\n",
    "**Factor 1 – \"Psychological & Social Stress\"**\n",
    "High positive loadings:\n",
    "\n",
    "anxiety_level (0.81)\n",
    "\n",
    "depression (0.75)\n",
    "\n",
    "mental_health_history (0.72)\n",
    "\n",
    "headache (0.72)\n",
    "\n",
    "future_career_concerns (0.78)\n",
    "\n",
    "bullying (0.79)\n",
    "\n",
    "peer_pressure (0.71)\n",
    "\n",
    "extracurricular_activities (0.69)\n",
    "\n",
    "High negative loadings:\n",
    "\n",
    "self_esteem (-0.71)\n",
    "\n",
    "sleep_quality (-0.81)\n",
    "\n",
    "safety (-0.75)\n",
    "\n",
    "basic_needs (-0.75)\n",
    "\n",
    "academic_performance (-0.77)\n",
    "\n",
    "teacher_student_relationship (-0.75)\n",
    "\n",
    "* Interpretation:\n",
    "This factor seems to represent a general mental & emotional well-being dimension, where:\n",
    "Higher anxiety, depression, bullying, peer pressure increase the score.\n",
    "Higher self-esteem, safety, academic performance decrease the score.\n",
    "\n",
    "**Factor 2 – \"Physical Health & Social Support\"**\n",
    "\n",
    "High positive loadings:\n",
    "\n",
    "blood_pressure (0.99) — very strong!\n",
    "\n",
    "depression (0.35)\n",
    "\n",
    "future_career_concerns (0.33)\n",
    "\n",
    "extracurricular_activities (0.32)\n",
    "\n",
    "High negative loadings:\n",
    "\n",
    "self_esteem (-0.44)\n",
    "\n",
    "social_support (-0.69) — strong negative link!\n",
    "\n",
    "sleep_quality (-0.20, small)\n",
    "\n",
    "* Interpretation:\n",
    "This factor seems to capture physical health & perceived support:\n",
    "\n",
    "Higher blood pressure, moderate depression link to higher scores.\n",
    "\n",
    "Strong social support is linked to lower scores.\n",
    "\n",
    "\n",
    "\n",
    "3- Factor scores\n",
    "The Factor Scores sample shows each participant's score on these two latent factors.\n",
    "\n",
    "Positive score = above-average tendency for that factor.\n",
    "\n",
    "Negative score = below-average tendency.\n",
    "\n",
    "For example:\n",
    "\n",
    "Participant 0: Factor1 = 0.57 (slightly higher psychological stress), Factor2 = -1.70 (much lower physical health/social support issues).\n",
    "\n",
    "Participant 1: Factor1 = 1.05 (high stress), Factor2 = 0.84 (also higher physical health issues)."
   ]
  },
  {
   "cell_type": "code",
   "execution_count": null,
   "id": "e0e0aa86-44e7-4670-bcfc-abceb8bf5562",
   "metadata": {},
   "outputs": [],
   "source": []
  }
 ],
 "metadata": {
  "kernelspec": {
   "display_name": "Python 3 (ipykernel)",
   "language": "python",
   "name": "python3"
  },
  "language_info": {
   "codemirror_mode": {
    "name": "ipython",
    "version": 3
   },
   "file_extension": ".py",
   "mimetype": "text/x-python",
   "name": "python",
   "nbconvert_exporter": "python",
   "pygments_lexer": "ipython3",
   "version": "3.12.7"
  }
 },
 "nbformat": 4,
 "nbformat_minor": 5
}
